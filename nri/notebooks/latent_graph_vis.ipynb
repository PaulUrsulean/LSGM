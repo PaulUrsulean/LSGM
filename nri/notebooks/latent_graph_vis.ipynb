{
 "cells": [
  {
   "cell_type": "code",
   "execution_count": null,
   "metadata": {},
   "outputs": [],
   "source": [
    "import matplotlib.pyplot as plt\n",
    "import numpy as np\n",
    "import os \n",
    "import sys\n",
    "import json\n",
    "import torch\n",
    "\n",
    "sys.path.append(\"..\")\n",
    "%matplotlib inline"
   ]
  },
  {
   "cell_type": "code",
   "execution_count": null,
   "metadata": {},
   "outputs": [],
   "source": [
    "BASE_PATH = \"../test/logs/Sun_Jun__9_16_15_40_201987405\"\n",
    "MODEL_BASE_PATH = os.path.join(BASE_PATH, \"models\")\n",
    "CONFIG_PATH = os.path.join(BASE_PATH, \"config.json\")\n",
    "EPOCH = 21\n",
    "\n",
    "config = json.load(open(CONFIG_PATH, \"rt\"))\n",
    "\n",
    "dataset = config['data']['name']\n",
    "n_features = config['data'][dataset]['dims']\n",
    "n_atoms = config['data'][dataset]['atoms']\n",
    "n_edge_types = config['model']['n_edge_types']\n",
    "timesteps = config['data']['timesteps']"
   ]
  },
  {
   "cell_type": "code",
   "execution_count": null,
   "metadata": {},
   "outputs": [],
   "source": [
    "config"
   ]
  },
  {
   "cell_type": "code",
   "execution_count": null,
   "metadata": {},
   "outputs": [],
   "source": [
    "# Load encoder\n",
    "from src.model.utils import load_weights, gen_fully_connected\n",
    "from train import create_encoder\n",
    "\n",
    "encoder = create_encoder(config)\n",
    "#load_weights(encoder, os.path.join(MODEL_BASE_PATH, f\"encoder_epoch{EPOCH}.pt\"))\n",
    "\n",
    "rel_rec, rel_send = gen_fully_connected(n_atoms)"
   ]
  },
  {
   "cell_type": "code",
   "execution_count": null,
   "metadata": {},
   "outputs": [],
   "source": [
    "from train import load_data\n",
    "data_loaders = load_data(config)\n",
    "test_loader = data_loaders['test_loader']"
   ]
  },
  {
   "cell_type": "code",
   "execution_count": null,
   "metadata": {},
   "outputs": [],
   "source": [
    "from src.model.utils import gumbel_softmax\n",
    "\n",
    "data = next(iter(test_loader))[0][:, :, :timesteps, :]\n",
    "\n",
    "logits = encoder(data, rel_rec, rel_send)\n",
    "edges = gumbel_softmax(logits, tau=0.5, hard=True)"
   ]
  },
  {
   "cell_type": "code",
   "execution_count": null,
   "metadata": {},
   "outputs": [],
   "source": [
    "edges.size()"
   ]
  },
  {
   "cell_type": "code",
   "execution_count": null,
   "metadata": {},
   "outputs": [],
   "source": [
    "from utils import get_offdiag_indices\n",
    "\n",
    "n_samples = edges.size(0)\n",
    "indices = get_offdiag_indices(n_atoms)\n",
    "\n",
    "graphs = np.empty((n_samples, n_edge_types, n_atoms, n_atoms))\n",
    "k = None\n",
    "\n",
    "for sample in range(n_samples):\n",
    "    for edge_type in range(n_edge_types):\n",
    "        graph = edges[sample, :, edge_type]\n",
    "        fully_connected = torch.zeros(n_atoms * n_atoms)\n",
    "        fully_connected[indices] = graph\n",
    "        adjacency_matrix = fully_connected.view(n_atoms, n_atoms).detach().numpy()\n",
    "        graphs[sample, edge_type, :, :] = adjacency_matrix"
   ]
  },
  {
   "cell_type": "code",
   "execution_count": null,
   "metadata": {},
   "outputs": [],
   "source": [
    "# Plot\n",
    "SAMPLE = 0\n",
    "\n",
    "fig, axes = plt.subplots(nrows=1, ncols=n_edge_types)\n",
    "for i in range(n_edge_types):\n",
    "    im = axes[i].imshow(graphs[SAMPLE, i, :, :], cmap='gray', interpolation=None)\n",
    "fig.colorbar(im, ax=axes.ravel().tolist(), shrink=0.6)"
   ]
  },
  {
   "cell_type": "code",
   "execution_count": null,
   "metadata": {},
   "outputs": [],
   "source": [
    "# Averages\n",
    "fig, axes = plt.subplots(nrows=1, ncols=n_edge_types)\n",
    "for i in range(n_edge_types):\n",
    "    im = axes[i].imshow(np.mean(graphs[:, i, :, :], axis=0), cmap='gray', interpolation=None)\n",
    "fig.colorbar(im, ax=axes.ravel().tolist(), shrink=0.6)"
   ]
  },
  {
   "cell_type": "code",
   "execution_count": null,
   "metadata": {},
   "outputs": [],
   "source": []
  }
 ],
 "metadata": {
  "kernelspec": {
   "display_name": "Python (mllab-venv)",
   "language": "python",
   "name": "mllab-venv"
  },
  "language_info": {
   "codemirror_mode": {
    "name": "ipython",
    "version": 3
   },
   "file_extension": ".py",
   "mimetype": "text/x-python",
   "name": "python",
   "nbconvert_exporter": "python",
   "pygments_lexer": "ipython3",
   "version": "3.7.3"
  }
 },
 "nbformat": 4,
 "nbformat_minor": 2
}
