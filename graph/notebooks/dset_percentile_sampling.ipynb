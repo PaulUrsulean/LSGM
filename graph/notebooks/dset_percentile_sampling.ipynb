{
 "cells": [
  {
   "cell_type": "code",
   "execution_count": 1,
   "metadata": {},
   "outputs": [
    {
     "name": "stdout",
     "output_type": "stream",
     "text": [
      "Loading data set CiteSeer from:  /nfs/homedirs/ursulean/project-4/graph/../data/CiteSeer\n"
     ]
    }
   ],
   "source": [
    "## IMPORTANT ##\n",
    "\n",
    "## This notebook assumes a folder /graph/embeddings with the naming convention {dataset}.pt\n",
    "\n",
    "import sys\n",
    "import os\n",
    "import os.path as path\n",
    "import time\n",
    "\n",
    "import numpy as np\n",
    "import torch\n",
    "from torch import functional as F\n",
    "from torch_geometric.nn import VGAE\n",
    "\n",
    "import matplotlib.pyplot as plt\n",
    "%matplotlib inline\n",
    "\n",
    "sys.path.append(path.dirname(path.dirname(path.abspath(os.getcwd()))))\n",
    "from graph.utils import *\n",
    "from graph.modules import create_encoder, create_decoder\n",
    "\n",
    "\n",
    "######## REPLACE PARAMETERS YOU WANT TO TEST HERE ###############\n",
    "\n",
    "dset = 'CiteSeer'\n",
    "dist = 'cosine'\n",
    "percentiles = np.linspace(0.5, 1.0, endpoint=False)\n",
    "\n",
    "#################################################################\n",
    "\n",
    "assert dset in [\"PubMed\", \"Cora\", \"CiteSeer\", \"Coauthor\"]\n",
    "assert dist in ['dot', 'cosine']\n",
    "sample = True\n",
    "\n",
    "device = torch.device('cuda' if torch.cuda.is_available() else 'cpu')\n",
    "dataset, data = load_data(dset)\n",
    "encoder = create_encoder('VGAE', dataset.num_features, 16).to(device)\n",
    "decoder = create_decoder(dist, False).to(device)\n",
    "model = VGAE(encoder=encoder, decoder=decoder).to(device)"
   ]
  },
  {
   "cell_type": "code",
   "execution_count": 2,
   "metadata": {},
   "outputs": [
    {
     "name": "stdout",
     "output_type": "stream",
     "text": [
      "Data.edge_index.size 9104\n"
     ]
    }
   ],
   "source": [
    "embeddings_folder = path.join(path.dirname(path.abspath(os.getcwd())), 'embeddings')\n",
    "\n",
    "# Split edges of a torch_geometric.data.Data object into pos negative train/val/test edges\n",
    "# default ratios of positive edges: val_ratio=0.05, test_ratio=0.1\n",
    "data.train_mask = data.val_mask = data.test_mask = data.y = None\n",
    "print(\"Data.edge_index.size\", data.edge_index.size(1))\n",
    "data = model.split_edges(data)\n",
    "node_features, train_pos_edge_index = data.x.to(device), data.train_pos_edge_index.to(device)"
   ]
  },
  {
   "cell_type": "code",
   "execution_count": 3,
   "metadata": {},
   "outputs": [],
   "source": [
    "# Define only encoder\n",
    "embeddings = torch.load(path.join(embeddings_folder, dset + \"_\" + dist + \".pt\"), device)\n",
    "N, D = embeddings.shape"
   ]
  },
  {
   "cell_type": "code",
   "execution_count": 4,
   "metadata": {},
   "outputs": [],
   "source": [
    "def sample_graph(z, sample_size):\n",
    "    N, D = z.shape\n",
    "\n",
    "    sample_size = min(sample_size, N)\n",
    "    sample_ix = np.random.choice(np.arange(N), size=sample_size, replace=False)\n",
    "\n",
    "    # Returns the sampled embeddings, and a mapping from their indices to the originals\n",
    "    return z[sample_ix], {i:sample_ix[i] for i in np.arange(sample_size)}\n",
    "\n",
    "def test_naive_graph(z, percentiles, sample_size=1000):\n",
    "\n",
    "    z_sample, index_mapping = sample_graph(z, sample_size)\n",
    "    t = time.time()\n",
    "    adjacency = model.decoder.forward_all(z_sample, sigmoid=(dist == 'dot'))\n",
    "\n",
    "    min_sim_absolute_values, _ = sample_percentile(percentiles, adjacency, dist_measure=dist, sample_size=sample_size)\n",
    "        \n",
    "    precisions = []\n",
    "    recalls = []\n",
    "    \n",
    "    for min_sim in min_sim_absolute_values:\n",
    "        precision, recall = sampled_dense_precision_recall(data, adjacency, index_mapping, min_sim, verbose=False)\n",
    "        precisions.append(precision)\n",
    "        recalls.append(recall)\n",
    "\n",
    "    return precisions, recalls\n",
    "\n",
    "precisions, recalls = test_naive_graph(embeddings, percentiles)\n",
    "\n",
    "# for i in range(len(percentiles)):\n",
    "#     print(\"Distance percentile {}, precision {}, recall {}\".format(percentiles[i], precisions[i], recalls[i]))"
   ]
  },
  {
   "cell_type": "markdown",
   "metadata": {},
   "source": [
    "# Precision and recall plotted by distance, same scale"
   ]
  },
  {
   "cell_type": "code",
   "execution_count": 5,
   "metadata": {},
   "outputs": [
    {
     "data": {
      "image/png": "[encoded data removed]",
      "text/plain": [
       "<Figure size 432x288 with 1 Axes>"
      ]
     },
     "metadata": {
      "needs_background": "light"
     },
     "output_type": "display_data"
    }
   ],
   "source": [
    "plt.plot(percentiles, precisions)\n",
    "plt.plot(percentiles, recalls)\n",
    "plt.legend([\"Precision\", \"Recall\"])\n",
    "plt.show()"
   ]
  },
  {
   "cell_type": "markdown",
   "metadata": {},
   "source": [
    "# Precision and recall plotted by distance, different scales"
   ]
  },
  {
   "cell_type": "code",
   "execution_count": 6,
   "metadata": {},
   "outputs": [
    {
     "data": {
      "image/png": "[encoded data removed]",
      "text/plain": [
       "<Figure size 432x288 with 2 Axes>"
      ]
     },
     "metadata": {},
     "output_type": "display_data"
    }
   ],
   "source": [
    "fig, ax1 = plt.subplots()\n",
    "\n",
    "color = 'tab:orange'\n",
    "ax1.set_xlabel('Percentile')\n",
    "ax1.set_ylabel('Precision', color=color)\n",
    "ax1.plot(percentiles, precisions, color=color)\n",
    "ax1.tick_params(axis='y', labelcolor=color)\n",
    "\n",
    "ax2 = ax1.twinx()  # instantiate a second axes that shares the same x-axis\n",
    "\n",
    "color = 'tab:blue'\n",
    "ax2.set_ylabel('Recall', color=color)  # we already handled the x-label with ax1\n",
    "ax2.plot(percentiles, recalls, color=color)\n",
    "ax2.tick_params(axis='y', labelcolor=color)\n",
    "\n",
    "fig.tight_layout()  # otherwise the right y-label is slightly clipped\n",
    "plt.show()"
   ]
  },
  {
   "cell_type": "code",
   "execution_count": null,
   "metadata": {},
   "outputs": [],
   "source": []
  }
 ],
 "metadata": {
  "kernelspec": {
   "display_name": "Python (mllab-venv)",
   "language": "python",
   "name": "mllab-venv"
  },
  "language_info": {
   "codemirror_mode": {
    "name": "ipython",
    "version": 3
   },
   "file_extension": ".py",
   "mimetype": "text/x-python",
   "name": "python",
   "nbconvert_exporter": "python",
   "pygments_lexer": "ipython3",
   "version": "3.7.3"
  }
 },
 "nbformat": 4,
 "nbformat_minor": 2
}
