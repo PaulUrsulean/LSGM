{
 "cells": [
  {
   "cell_type": "code",
   "execution_count": 1,
   "metadata": {},
   "outputs": [],
   "source": [
    "import torch\n",
    "from torch.utils import data\n",
    "\n",
    "import warnings\n",
    "warnings.filterwarnings(\"ignore\", category=UserWarning) "
   ]
  },
  {
   "cell_type": "markdown",
   "metadata": {},
   "source": [
    "## Dummy Data Generation\n",
    "\n",
    "### Parameters\n",
    "Lets generate some random data to demonstrate our setup"
   ]
  },
  {
   "cell_type": "code",
   "execution_count": 2,
   "metadata": {},
   "outputs": [],
   "source": [
    "N_SAMPLES = 99 # Number of training samples to generate\n",
    "N_ATOMS = 5 # E.g. number of agents in a simulation\n",
    "N_STEPS = 10 # Length of time series (e.g. trajectory length)\n",
    "N_FEATURES = 3 # Number of features per atom and timestep"
   ]
  },
  {
   "cell_type": "markdown",
   "metadata": {},
   "source": [
    "### Generate Random Data"
   ]
  },
  {
   "cell_type": "code",
   "execution_count": 3,
   "metadata": {},
   "outputs": [],
   "source": [
    "data_loaders = dict(\n",
    "    train_loader= data.DataLoader(data.TensorDataset(torch.rand(N_SAMPLES, N_ATOMS, N_STEPS, N_FEATURES))),\n",
    "    valid_loader = data.DataLoader(data.TensorDataset(torch.rand(N_SAMPLES, N_ATOMS, N_STEPS, N_FEATURES))),\n",
    "    test_loader = data.DataLoader(data.TensorDataset(torch.rand(N_SAMPLES, N_ATOMS, N_STEPS, N_FEATURES)))\n",
    ")"
   ]
  },
  {
   "cell_type": "markdown",
   "metadata": {},
   "source": [
    "## Model Definition\n",
    "### Model Hyperparameters"
   ]
  },
  {
   "cell_type": "code",
   "execution_count": 4,
   "metadata": {},
   "outputs": [],
   "source": [
    "N_EDGE_TYPES = 3\n",
    "DIM_ENCODER_HIDDEN = 20\n",
    "DIM_DECODER_HIDDEN = 20"
   ]
  },
  {
   "cell_type": "code",
   "execution_count": 8,
   "metadata": {},
   "outputs": [],
   "source": [
    "from src.model.modules import MLPEncoder, RNNDecoder\n",
    "\n",
    "encoder = MLPEncoder(N_STEPS * N_FEATURES, DIM_ENCODER_HIDDEN, N_EDGE_TYPES)\n",
    "decoder = RNNDecoder(n_in_node=N_FEATURES, edge_types=N_EDGE_TYPES, n_hid=DIM_DECODER_HIDDEN)"
   ]
  },
  {
   "cell_type": "markdown",
   "metadata": {},
   "source": [
    "### Training Setup"
   ]
  },
  {
   "cell_type": "code",
   "execution_count": null,
   "metadata": {},
   "outputs": [],
   "source": [
    "from src.trainer import generate_config\n",
    "config = generate_config(\n",
    "    n_edges=N_EDGE_TYPES,\n",
    "    n_atoms=N_ATOMS,\n",
    "    epochs=3,\n",
    "    early_stopping_patience=2,\n",
    "    temp=0.5 # Softmax Temperature for latent graph\n",
    ")"
   ]
  },
  {
   "cell_type": "code",
   "execution_count": null,
   "metadata": {},
   "outputs": [],
   "source": [
    "from src.trainer import Trainer\n",
    "\n",
    "trainer = Trainer(encoder=encoder,\n",
    "                decoder=decoder,\n",
    "                data_loaders=data_loaders,\n",
    "                config=config)\n",
    "trainer.train()"
   ]
  },
  {
   "cell_type": "markdown",
   "metadata": {},
   "source": [
    "## Evaluation"
   ]
  },
  {
   "cell_type": "code",
   "execution_count": null,
   "metadata": {},
   "outputs": [],
   "source": [
    "from src.evaluation import Evaluator"
   ]
  },
  {
   "cell_type": "code",
   "execution_count": null,
   "metadata": {},
   "outputs": [],
   "source": [
    "evaluator = Evaluator(\n",
    "    encoder=encoder, \n",
    "    decoder=decoder, \n",
    "    data_loader=data_loaders['test_loader'],\n",
    "    config=config)"
   ]
  },
  {
   "cell_type": "code",
   "execution_count": null,
   "metadata": {},
   "outputs": [],
   "source": [
    "print(evaluator.test())"
   ]
  },
  {
   "cell_type": "code",
   "execution_count": null,
   "metadata": {},
   "outputs": [],
   "source": [
    "graphs, mean_graph = evaluator._extract_latent_graphs()"
   ]
  },
  {
   "cell_type": "code",
   "execution_count": null,
   "metadata": {},
   "outputs": [],
   "source": [
    "print(mean_graph.shape)"
   ]
  },
  {
   "cell_type": "code",
   "execution_count": null,
   "metadata": {},
   "outputs": [],
   "source": [
    "import matplotlib.pyplot as plt\n",
    "%matplotlib inline\n",
    "\n",
    "fig, ax = plt.subplots(1, N_EDGE_TYPES, figsize=(20, 10))\n",
    "for i in range(N_EDGE_TYPES):\n",
    "    ax[i].imshow(mean_graph[:,:,i], cmap='gray')\n",
    "    ax[i].set_title(f\"Edge type {i}\", {\"fontsize\":20})"
   ]
  }
 ],
 "metadata": {
  "kernelspec": {
   "display_name": "Python 3",
   "language": "python",
   "name": "python3"
  },
  "language_info": {
   "codemirror_mode": {
    "name": "ipython",
    "version": 3
   },
   "file_extension": ".py",
   "mimetype": "text/x-python",
   "name": "python",
   "nbconvert_exporter": "python",
   "pygments_lexer": "ipython3",
   "version": "3.7.3"
  }
 },
 "nbformat": 4,
 "nbformat_minor": 2
}
