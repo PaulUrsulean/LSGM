{
 "cells": [
  {
   "cell_type": "markdown",
   "metadata": {},
   "source": [
    "# Visualize Weather Station Interactions on Map"
   ]
  },
  {
   "cell_type": "code",
   "execution_count": 52,
   "metadata": {},
   "outputs": [
    {
     "name": "stdout",
     "output_type": "stream",
     "text": [
      "Collecting package metadata: done\n",
      "Solving environment: done\n",
      "\n",
      "## Package Plan ##\n",
      "\n",
      "  environment location: /Users/andreas/anaconda3/envs/mllab-venv\n",
      "\n",
      "  added / updated specs:\n",
      "    - basemap-data-hires\n",
      "\n",
      "\n",
      "The following packages will be downloaded:\n",
      "\n",
      "    package                    |            build\n",
      "    ---------------------------|-----------------\n",
      "    basemap-data-hires-1.2.0   |                0       105.3 MB\n",
      "    ------------------------------------------------------------\n",
      "                                           Total:       105.3 MB\n",
      "\n",
      "The following NEW packages will be INSTALLED:\n",
      "\n",
      "  basemap-data-hires pkgs/main/osx-64::basemap-data-hires-1.2.0-0\n",
      "\n",
      "\n",
      "\n",
      "Downloading and Extracting Packages\n",
      "basemap-data-hires-1 | 105.3 MB  | ##################################### | 100% \n",
      "Preparing transaction: done\n",
      "Verifying transaction: done\n",
      "Executing transaction: done\n"
     ]
    }
   ],
   "source": [
    "# Install plotting library if not already done\n",
    "!conda install basemap basemap-data-hires -y"
   ]
  },
  {
   "cell_type": "code",
   "execution_count": 53,
   "metadata": {},
   "outputs": [],
   "source": [
    "import numpy as np\n",
    "import matplotlib.pyplot as plt\n",
    "from mpl_toolkits.basemap import Basemap\n",
    "\n",
    "%matplotlib inline"
   ]
  },
  {
   "cell_type": "code",
   "execution_count": null,
   "metadata": {},
   "outputs": [],
   "source": [
    "fig = plt.figure(figsize=(8, 8))\n",
    "m = Basemap(projection='lcc', resolution='l',\n",
    "            width=1.5E6, height=1.5E6, \n",
    "            lat_0=40, lon_0=-4.5,epsg = 4326)\n",
    "\n",
    "m.shadedrelief()\n",
    "m.arcgisimage(service = service, xpixels = 200)\n",
    "\n",
    "\n",
    "\n",
    "#m.etopo(scale=.5, alpha=0.9)\n",
    "#service = \"ESRI_Imagery_World_2D\"\n",
    "#m.arcgisimage(service=service, xpixels = 2000)\n",
    "#m.shadedrelief()\n",
    "#m.bluemarble()\n",
    "#m.etopo()\n",
    "\n",
    "# Map (long, lat) to (x, y) for plotting\n",
    "x, y = m(-3.703790, 40.416775)\n",
    "plt.plot(x, y, 'ok', markersize=5)\n",
    "plt.text(x, y, ' Madrid', fontsize=12);"
   ]
  },
  {
   "cell_type": "code",
   "execution_count": null,
   "metadata": {},
   "outputs": [],
   "source": []
  }
 ],
 "metadata": {
  "kernelspec": {
   "display_name": "Python (mllab-venv)",
   "language": "python",
   "name": "mllab-venv"
  },
  "language_info": {
   "codemirror_mode": {
    "name": "ipython",
    "version": 3
   },
   "file_extension": ".py",
   "mimetype": "text/x-python",
   "name": "python",
   "nbconvert_exporter": "python",
   "pygments_lexer": "ipython3",
   "version": "3.7.3"
  }
 },
 "nbformat": 4,
 "nbformat_minor": 2
}
