{
 "cells": [
  {
   "cell_type": "code",
   "execution_count": 27,
   "metadata": {},
   "outputs": [],
   "source": [
    "import matplotlib.pyplot as plt\n",
    "import numpy as np\n",
    "import os \n",
    "import sys\n",
    "import json\n",
    "import torch\n",
    "\n",
    "sys.path.append(\"..\")\n",
    "%matplotlib inline"
   ]
  },
  {
   "cell_type": "code",
   "execution_count": 38,
   "metadata": {},
   "outputs": [],
   "source": [
    "BASE_PATH = \"../logs/Mon_Jun__3_00_00_22_2019-9223\"\n",
    "MODEL_BASE_PATH = os.path.join(BASE_PATH, \"models\")\n",
    "CONFIG_PATH = os.path.join(BASE_PATH, \"config.json\")\n",
    "EPOCH = 1\n",
    "\n",
    "config = json.load(open(CONFIG_PATH, \"rt\"))\n",
    "\n",
    "dataset = config['data']['name']\n",
    "n_features = config['data'][dataset]['dims']\n",
    "n_atoms = config['data'][dataset]['atoms']\n",
    "n_edge_types = config['model']['n_edge_types']\n",
    "timesteps = config['data']['timesteps']"
   ]
  },
  {
   "cell_type": "code",
   "execution_count": 39,
   "metadata": {},
   "outputs": [
    {
     "data": {
      "text/plain": [
       "{'globals': {'seed': 42, 'prior': None, 'add_const': False, 'eps': 1e-16},\n",
       " 'training': {'gpu_id': None,\n",
       "  'use_early_stopping': True,\n",
       "  'early_stopping_mode': 'min',\n",
       "  'early_stopping_metric': 'val_mse_loss',\n",
       "  'early_stopping_patience': 50,\n",
       "  'epochs': 10,\n",
       "  'batch_size': 128,\n",
       "  'load_path': None,\n",
       "  'grad_clip_value': None,\n",
       "  'optimizer': {'type': 'adam',\n",
       "   'learning_rate': 0.0005,\n",
       "   'betas': [0.9, 0.999]},\n",
       "  'scheduler': {'stepsize': 200, 'gamma': 0.5}},\n",
       " 'data': {'timesteps': 49,\n",
       "  'name': 'random',\n",
       "  'path': 'data',\n",
       "  'random': {'atoms': 4, 'dims': 100, 'examples': 100, 'timesteps': 200},\n",
       "  'springs': {'suffix': '_springs5', 'atoms': 5, 'dims': 4},\n",
       "  'weather': {'atoms': 3,\n",
       "   'dims': 2,\n",
       "   'examples': 10000,\n",
       "   'timesteps': 70,\n",
       "   'force_new': False,\n",
       "   'discard': False,\n",
       "   'splits': [72, 14, 14]}},\n",
       " 'loss': {'beta': 1.0},\n",
       " 'model': {'prediction_steps': 10,\n",
       "  'factor_graph': True,\n",
       "  'skip_first': True,\n",
       "  'hard': False,\n",
       "  'dynamic_graph': True,\n",
       "  'temp': 0.5,\n",
       "  'burn_in': False,\n",
       "  'n_edge_types': 2,\n",
       "  'encoder': {'model': 'mlp', 'hidden_dim': 256, 'dropout': 0.5},\n",
       "  'decoder': {'model': 'rnn',\n",
       "   'hidden_dim': 256,\n",
       "   'dropout': 0.0,\n",
       "   'prediction_variance': 5e-05}},\n",
       " 'logging': {'log_step': 10,\n",
       "  'log_dir': './logs',\n",
       "  'logger_config': '',\n",
       "  'store_models': True}}"
      ]
     },
     "execution_count": 39,
     "metadata": {},
     "output_type": "execute_result"
    }
   ],
   "source": [
    "config"
   ]
  },
  {
   "cell_type": "code",
   "execution_count": 40,
   "metadata": {},
   "outputs": [
    {
     "name": "stderr",
     "output_type": "stream",
     "text": [
      "../src/model/modules.py:26: UserWarning: nn.init.xavier_normal is now deprecated in favor of nn.init.xavier_normal_.\n",
      "  nn.init.xavier_normal(m.weight.data)\n",
      "../src/model/modules.py:107: UserWarning: nn.init.xavier_normal is now deprecated in favor of nn.init.xavier_normal_.\n",
      "  nn.init.xavier_normal(m.weight.data)\n"
     ]
    }
   ],
   "source": [
    "# Load encoder\n",
    "from src.model.utils import load_weights, gen_fully_connected\n",
    "from train import create_encoder\n",
    "\n",
    "encoder = create_encoder(config)\n",
    "load_weights(encoder, os.path.join(MODEL_BASE_PATH, f\"encoder_epoch{EPOCH}.pt\"))\n",
    "\n",
    "rel_rec, rel_send = gen_fully_connected(n_atoms)"
   ]
  },
  {
   "cell_type": "code",
   "execution_count": 41,
   "metadata": {},
   "outputs": [],
   "source": [
    "from train import load_data\n",
    "data_loaders = load_data(config)\n",
    "test_loader = data_loader['test_loader']"
   ]
  },
  {
   "cell_type": "code",
   "execution_count": 42,
   "metadata": {},
   "outputs": [
    {
     "name": "stderr",
     "output_type": "stream",
     "text": [
      "../src/model/utils.py:79: UserWarning: Implicit dimension choice for softmax has been deprecated. Change the call to include dim=X as an argument.\n",
      "  soft_max_1d = F.softmax(trans_input)\n"
     ]
    }
   ],
   "source": [
    "from src.model.utils import gumbel_softmax\n",
    "\n",
    "data = next(iter(test_loader))[0][:, :, :timesteps, :]\n",
    "\n",
    "logits = encoder(data, rel_rec, rel_send)\n",
    "edges = gumbel_softmax(logits, tau=0.5, hard=True)"
   ]
  },
  {
   "cell_type": "code",
   "execution_count": 78,
   "metadata": {},
   "outputs": [],
   "source": [
    "from src.model.utils import get_offdiag_indices\n",
    "\n",
    "n_samples = edges.size(0)\n",
    "indices = get_offdiag_indices(n_atoms)\n",
    "\n",
    "graphs = np.empty((n_samples, n_edge_types, n_atoms, n_atoms))\n",
    "k = None\n",
    "\n",
    "for sample in range(n_samples):\n",
    "    for edge_type in range(n_edge_types):\n",
    "        graph = edges[sample, :, edge_type]\n",
    "        fully_connected = torch.zeros(n_atoms * n_atoms)\n",
    "        fully_connected[indices] = graph\n",
    "        adjacency_matrix = fully_connected.view(n_atoms, n_atoms).detach().numpy()\n",
    "        graphs[sample, edge_type, :, :] = adjacency_matrix"
   ]
  },
  {
   "cell_type": "code",
   "execution_count": 94,
   "metadata": {},
   "outputs": [
    {
     "data": {
      "text/plain": [
       "<matplotlib.colorbar.Colorbar at 0x7fcfa71464a8>"
      ]
     },
     "execution_count": 94,
     "metadata": {},
     "output_type": "execute_result"
    },
    {
     "data": {
      "image/png": "[encoded data removed]",
      "text/plain": [
       "<Figure size 432x288 with 3 Axes>"
      ]
     },
     "metadata": {
      "needs_background": "light"
     },
     "output_type": "display_data"
    }
   ],
   "source": [
    "# Plot\n",
    "SAMPLE = 0\n",
    "\n",
    "fig, axes = plt.subplots(nrows=1, ncols=n_edge_types)\n",
    "for i in range(n_edge_types):\n",
    "    im = axes[i].imshow(graphs[SAMPLE, i, :, :], cmap='gray', interpolation=None)\n",
    "fig.colorbar(im, ax=axes.ravel().tolist(), shrink=0.6)"
   ]
  },
  {
   "cell_type": "code",
   "execution_count": 95,
   "metadata": {},
   "outputs": [
    {
     "data": {
      "text/plain": [
       "<matplotlib.colorbar.Colorbar at 0x7fcfa9591128>"
      ]
     },
     "execution_count": 95,
     "metadata": {},
     "output_type": "execute_result"
    },
    {
     "data": {
      "image/png": "[encoded data removed]",
      "text/plain": [
       "<Figure size 432x288 with 3 Axes>"
      ]
     },
     "metadata": {
      "needs_background": "light"
     },
     "output_type": "display_data"
    }
   ],
   "source": [
    "# Averages\n",
    "fig, axes = plt.subplots(nrows=1, ncols=n_edge_types)\n",
    "for i in range(n_edge_types):\n",
    "    im = axes[i].imshow(np.mean(graphs[:, i, :, :], axis=0), cmap='gray', interpolation=None)\n",
    "fig.colorbar(im, ax=axes.ravel().tolist(), shrink=0.6)"
   ]
  }
 ],
 "metadata": {
  "kernelspec": {
   "display_name": "Python (mllab-venv)",
   "language": "python",
   "name": "mllab-venv"
  },
  "language_info": {
   "codemirror_mode": {
    "name": "ipython",
    "version": 3
   },
   "file_extension": ".py",
   "mimetype": "text/x-python",
   "name": "python",
   "nbconvert_exporter": "python",
   "pygments_lexer": "ipython3",
   "version": "3.7.3"
  }
 },
 "nbformat": 4,
 "nbformat_minor": 2
}
