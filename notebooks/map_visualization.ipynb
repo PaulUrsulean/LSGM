{
 "cells": [
  {
   "cell_type": "markdown",
   "metadata": {},
   "source": [
    "# Visualize Weather Station Interactions on Map\n",
    "This notebook contains code to load a trained encoder, predict latent interactions (probably on test set) and finally visualize this graph on a map."
   ]
  },
  {
   "cell_type": "code",
   "execution_count": 1,
   "metadata": {},
   "outputs": [
    {
     "name": "stdout",
     "output_type": "stream",
     "text": [
      "Collecting package metadata: done\n",
      "Solving environment: done\n",
      "\n",
      "# All requested packages already installed.\n",
      "\n"
     ]
    }
   ],
   "source": [
    "# Install plotting library if not already done\n",
    "!conda install basemap basemap-data-hires -y"
   ]
  },
  {
   "cell_type": "markdown",
   "metadata": {},
   "source": [
    "### Imports"
   ]
  },
  {
   "cell_type": "code",
   "execution_count": 2,
   "metadata": {},
   "outputs": [],
   "source": [
    "import os\n",
    "import numpy as np\n",
    "import matplotlib.pyplot as plt\n",
    "import json\n",
    "import torch\n",
    "import os\n",
    "import sys\n",
    "\n",
    "# Fix error in case Basemap can't find epsg files, see https://github.com/matplotlib/basemap/issues/419\n",
    "# You might need to adjust the path, e.g. your proj4-folder could have a slightly different name\n",
    "os.environ['PROJ_LIB'] = \"/home/andreas/anaconda3/pkgs/proj4-5.2.0-he6710b0_1/share/proj/\"\n",
    "sys.path.append(\"..\")\n",
    "%matplotlib inline"
   ]
  },
  {
   "cell_type": "markdown",
   "metadata": {},
   "source": [
    "## Constants and Hyperparameters"
   ]
  },
  {
   "cell_type": "code",
   "execution_count": 3,
   "metadata": {},
   "outputs": [],
   "source": [
    "#### Paths and configuration regarding encoder\n",
    "BASE_PATH = \"../../test/logs/Sun_Jun__9_16_15_40_201987405\"\n",
    "MODEL_BASE_PATH = os.path.join(BASE_PATH, \"models\")\n",
    "CONFIG_PATH = os.path.join(BASE_PATH, \"config.json\")\n",
    "EPOCH = 0 # TODO: Automatically use latest one\n",
    "config = json.load(open(CONFIG_PATH, \"rt\"))\n",
    "\n",
    "\n",
    "# Relevant information about data set\n",
    "dataset = config['data']['name']\n",
    "n_features = config['data'][dataset]['dims']\n",
    "n_atoms = config['data'][dataset]['atoms']\n",
    "n_edge_types = config['model']['n_edge_types']\n",
    "timesteps = config['data']['timesteps']\n",
    "\n",
    "\n",
    "# Set data location\n",
    "DATA_PATH = os.path.abspath(\"\") "
   ]
  },
  {
   "cell_type": "markdown",
   "metadata": {},
   "source": [
    "### Create Map to plot on\n",
    "As our data set's weather stations are located in Spain, the below used coordinates represent a square fully comprising Spain."
   ]
  },
  {
   "cell_type": "code",
   "execution_count": 4,
   "metadata": {},
   "outputs": [],
   "source": [
    "from utils import id_2_loc, plot_interactions, edges_to_adj\n",
    "from mpl_toolkits.basemap import Basemap\n",
    "\n",
    "# Map to plot weather stations\n",
    "map = Basemap(projection='lcc', resolution='l',\n",
    "            width=1.5E6, height=1.5E6, \n",
    "            lat_0=40, lon_0=-4.5)"
   ]
  },
  {
   "cell_type": "code",
   "execution_count": 5,
   "metadata": {},
   "outputs": [
    {
     "ename": "IsADirectoryError",
     "evalue": "[Errno 21] Is a directory: '/home/andreas/Studium/Semester2/Lab/project-4/notebooks/weather'",
     "output_type": "error",
     "traceback": [
      "\u001b[0;31m---------------------------------------------------------------------------\u001b[0m",
      "\u001b[0;31mIsADirectoryError\u001b[0m                         Traceback (most recent call last)",
      "\u001b[0;32m<ipython-input-5-c5d9d43f6ea9>\u001b[0m in \u001b[0;36m<module>\u001b[0;34m\u001b[0m\n\u001b[1;32m      1\u001b[0m \u001b[0;31m# Load data\u001b[0m\u001b[0;34m\u001b[0m\u001b[0;34m\u001b[0m\u001b[0;34m\u001b[0m\u001b[0m\n\u001b[0;32m----> 2\u001b[0;31m \u001b[0mdata\u001b[0m\u001b[0;34m,\u001b[0m \u001b[0mconfigs\u001b[0m\u001b[0;34m,\u001b[0m \u001b[0mconfig_indices\u001b[0m \u001b[0;34m=\u001b[0m \u001b[0mnp\u001b[0m\u001b[0;34m.\u001b[0m\u001b[0mload\u001b[0m\u001b[0;34m(\u001b[0m\u001b[0mDATA_PATH\u001b[0m\u001b[0;34m,\u001b[0m \u001b[0mallow_pickle\u001b[0m\u001b[0;34m=\u001b[0m\u001b[0;32mTrue\u001b[0m\u001b[0;34m)\u001b[0m\u001b[0;34m\u001b[0m\u001b[0;34m\u001b[0m\u001b[0m\n\u001b[0m",
      "\u001b[0;32m~/anaconda3/envs/mllab-venv/lib/python3.7/site-packages/numpy/lib/npyio.py\u001b[0m in \u001b[0;36mload\u001b[0;34m(file, mmap_mode, allow_pickle, fix_imports, encoding)\u001b[0m\n\u001b[1;32m    420\u001b[0m         \u001b[0mown_fid\u001b[0m \u001b[0;34m=\u001b[0m \u001b[0;32mFalse\u001b[0m\u001b[0;34m\u001b[0m\u001b[0;34m\u001b[0m\u001b[0m\n\u001b[1;32m    421\u001b[0m     \u001b[0;32melse\u001b[0m\u001b[0;34m:\u001b[0m\u001b[0;34m\u001b[0m\u001b[0;34m\u001b[0m\u001b[0m\n\u001b[0;32m--> 422\u001b[0;31m         \u001b[0mfid\u001b[0m \u001b[0;34m=\u001b[0m \u001b[0mopen\u001b[0m\u001b[0;34m(\u001b[0m\u001b[0mos_fspath\u001b[0m\u001b[0;34m(\u001b[0m\u001b[0mfile\u001b[0m\u001b[0;34m)\u001b[0m\u001b[0;34m,\u001b[0m \u001b[0;34m\"rb\"\u001b[0m\u001b[0;34m)\u001b[0m\u001b[0;34m\u001b[0m\u001b[0;34m\u001b[0m\u001b[0m\n\u001b[0m\u001b[1;32m    423\u001b[0m         \u001b[0mown_fid\u001b[0m \u001b[0;34m=\u001b[0m \u001b[0;32mTrue\u001b[0m\u001b[0;34m\u001b[0m\u001b[0;34m\u001b[0m\u001b[0m\n\u001b[1;32m    424\u001b[0m \u001b[0;34m\u001b[0m\u001b[0m\n",
      "\u001b[0;31mIsADirectoryError\u001b[0m: [Errno 21] Is a directory: '/home/andreas/Studium/Semester2/Lab/project-4/notebooks/weather'"
     ]
    }
   ],
   "source": [
    "# Load data\n",
    "data, configs, config_indices = np.load(DATA_PATH, allow_pickle=True)"
   ]
  },
  {
   "cell_type": "markdown",
   "metadata": {},
   "source": [
    "# Extract Latent Graphs with Encoder"
   ]
  },
  {
   "cell_type": "code",
   "execution_count": null,
   "metadata": {},
   "outputs": [],
   "source": [
    "# Load Encoder\n",
    "from src.model.utils import load_weights, gen_fully_connected\n",
    "from train import create_encoder\n",
    "import torch\n",
    "\n",
    "# Change to device('cuda:0') e.g. to run on GPU\n",
    "device = torch.device('cpu')\n",
    "\n",
    "# Load model as defined in config and \n",
    "encoder = create_encoder(config).to(device)\n",
    "#load_weights(encoder, os.path.join(MODEL_BASE_PATH, f\"encoder_epoch{EPOCH}.pt\"))\n",
    "\n",
    "# Move data to GPU if used\n",
    "data_tensor = data.to(device)\n",
    "\n",
    "\n",
    "rel_rec, rel_send = gen_fully_connected(n_atoms, device=device)"
   ]
  },
  {
   "cell_type": "code",
   "execution_count": null,
   "metadata": {},
   "outputs": [],
   "source": [
    "from src.model.utils import gumbel_softmax\n",
    "\n",
    "input = data_tensor[:, :, :timesteps, :]\n",
    "\n",
    "logits = encoder(input, rel_rec, rel_send)\n",
    "edges = gumbel_softmax(logits, tau=0.5, hard=True)\n",
    "graphs = edges_to_adj(edges, n_atoms=n_atoms)"
   ]
  },
  {
   "cell_type": "code",
   "execution_count": null,
   "metadata": {},
   "outputs": [],
   "source": [
    "# Plot interactions on Map\n",
    "sample_id = 0\n",
    "\n",
    "plot_interactions(configs[config_indices[sample_id]], graphs[0], map=map, station_locations=config_)"
   ]
  },
  {
   "cell_type": "code",
   "execution_count": null,
   "metadata": {},
   "outputs": [],
   "source": [
    "# Visualize adjacency matrix\n",
    "fig, axes = plt.subplots(nrows=1, ncols=n_edge_types)\n",
    "for i in range(n_edge_types):\n",
    "    im = axes[i].imshow(graphs[sample_id, i, :, :], cmap='gray', interpolation=None)\n",
    "fig.colorbar(im, ax=axes.ravel().tolist(), shrink=0.6)"
   ]
  },
  {
   "cell_type": "markdown",
   "metadata": {},
   "source": [
    "## Let's see how the latent graph changes over time\n"
   ]
  },
  {
   "cell_type": "code",
   "execution_count": null,
   "metadata": {},
   "outputs": [],
   "source": [
    "window_size = timesteps\n",
    "\n",
    "dynamic_graphs = []\n",
    "\n",
    "for step in range(0, 100 - timesteps): #data_tensor.size(-2) - timesteps):\n",
    "    # Use sliding window to update latent graph over timesteps\n",
    "    #input = data_tensor[:, :, step:step+timesteps, :]\n",
    "    #logits = encoder(input, rel_rec, rel_send)\n",
    "    #edges = gumbel_softmax(logits, tau=0.5, hard=True)\n",
    "    edges = torch.rand((100, n_atoms * (n_atoms - 1), n_atoms))\n",
    "    graphs = edges_to_adj(edges, n_atoms=n_atoms)\n",
    "    dynamic_graphs.append(graphs)"
   ]
  },
  {
   "cell_type": "code",
   "execution_count": null,
   "metadata": {},
   "outputs": [],
   "source": [
    "sample_id = 0\n",
    "\n",
    "plot_interactions()"
   ]
  },
  {
   "cell_type": "code",
   "execution_count": null,
   "metadata": {},
   "outputs": [],
   "source": []
  }
 ],
 "metadata": {
  "kernelspec": {
   "display_name": "Python (mllab-venv)",
   "language": "python",
   "name": "mllab-venv"
  },
  "language_info": {
   "codemirror_mode": {
    "name": "ipython",
    "version": 3
   },
   "file_extension": ".py",
   "mimetype": "text/x-python",
   "name": "python",
   "nbconvert_exporter": "python",
   "pygments_lexer": "ipython3",
   "version": "3.7.3"
  }
 },
 "nbformat": 4,
 "nbformat_minor": 2
}
