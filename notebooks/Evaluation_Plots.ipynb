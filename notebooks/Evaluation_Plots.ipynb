{
 "cells": [
  {
   "cell_type": "code",
   "execution_count": 2,
   "metadata": {},
   "outputs": [],
   "source": [
    "import os\n",
    "import numpy as np\n",
    "import matplotlib.pyplot as plt\n",
    "from pathlib import Path\n",
    "import json\n",
    "\n",
    "%matplotlib inline"
   ]
  },
  {
   "cell_type": "code",
   "execution_count": 3,
   "metadata": {},
   "outputs": [],
   "source": [
    "ROOT_PATH = Path(\"./logs_andreas/springs/\")\n",
    "EXPERIMENT_NAMES = [\n",
    "    \"Sun_Jun__2_11_02_05_201987700\",#123123\n",
    "    \"Sat_Jun__1_19_00_16_2019-9223\",#12\n",
    "    \"Sat_Jun__1_18_59_28_201987775\"#42\n",
    "]\n",
    "PATHS = [ROOT_PATH / name for name in EXPERIMENT_NAMES]"
   ]
  },
  {
   "cell_type": "code",
   "execution_count": 4,
   "metadata": {},
   "outputs": [
    {
     "name": "stdout",
     "output_type": "stream",
     "text": [
      "----\n",
      "Config from run #2 not equal to first one in group globals:\n",
      "seed is 12 instead of 123125124\n",
      "----\n",
      "Config from run #3 not equal to first one in group globals:\n",
      "seed is 42 instead of 123125124\n",
      "----\n",
      "Config from run #3 not equal to first one in group training:\n",
      "gpu_id is 0 instead of 2\n"
     ]
    }
   ],
   "source": [
    "# Quickly check which configs are different to assure they are indeed comparable\n",
    "\n",
    "configs = [json.load(open(p / \"config.json\", \"rt\")) for p in PATHS]\n",
    "first_config = configs[0]\n",
    "\n",
    "for i in range(1, len(configs)):\n",
    "    for group in first_config:\n",
    "        are_equal = ((first_config[group] == configs[i][group]))\n",
    "        if not are_equal:\n",
    "            print(\"----\")\n",
    "            print(f\"Config from run #{i + 1} not equal to first one in group {group}:\")\n",
    "            differences = ([(p, configs[i][group][p], first_config[group][p]) for p in configs[i][group] \n",
    "                            if configs[i][group][p] != first_config[group][p]])\n",
    "            for (g, v, orig) in differences:\n",
    "                print(f\"{g} is {v} instead of {orig}\")"
   ]
  },
  {
   "cell_type": "code",
   "execution_count": 5,
   "metadata": {},
   "outputs": [],
   "source": [
    "results = [json.load(open(p / \"test.json\", \"rt\")) for p in PATHS]"
   ]
  },
  {
   "cell_type": "code",
   "execution_count": 6,
   "metadata": {},
   "outputs": [],
   "source": [
    "losses = [results[i]['test_loss'] for i in range(len(results))]\n",
    "full_losses = [results[i]['test_full_loss'] for i in range(len(results))]\n",
    "mses = [results[i]['test_mse_loss'] for i in range(len(results))]\n",
    "nlls = [results[i]['test_nll'] for i in range(len(results))]\n",
    "kls = [results[i]['test_kl'] for i in range(len(results))]"
   ]
  },
  {
   "cell_type": "code",
   "execution_count": 7,
   "metadata": {},
   "outputs": [
    {
     "name": "stdout",
     "output_type": "stream",
     "text": [
      "MSE: 6.7e-05±2.80e-07\n",
      "Loss: 1.29e+02±5.19e-01\n"
     ]
    }
   ],
   "source": [
    "# MSE Losses\n",
    "from numpy import format_float_scientific as format\n",
    "\n",
    "mean_mse = np.mean(mses)\n",
    "std_mse = np.std(mses)\n",
    "\n",
    "mean_loss = np.mean(losses)\n",
    "std_loss = np.std(losses)\n",
    "\n",
    "precision=2\n",
    "\n",
    "print(f\"MSE: {format(mean_mse, precision=precision)}±{format(std_mse, precision=precision)}\")\n",
    "print(f\"Loss: {format(mean_loss, precision=precision)}±{format(std_loss, precision=precision)}\")"
   ]
  },
  {
   "cell_type": "code",
   "execution_count": 8,
   "metadata": {},
   "outputs": [
    {
     "data": {
      "image/png": "[encoded data removed]",
      "text/plain": [
       "<Figure size 432x288 with 1 Axes>"
      ]
     },
     "metadata": {
      "needs_background": "light"
     },
     "output_type": "display_data"
    }
   ],
   "source": [
    "plt.boxplot(mses)\n",
    "plt.savefig(\"mse_1_step_boxplot.png\", dpi=200)"
   ]
  },
  {
   "cell_type": "code",
   "execution_count": 11,
   "metadata": {},
   "outputs": [
    {
     "name": "stdout",
     "output_type": "stream",
     "text": [
      "Step 1: 7.49e-06±3.9e-07\n",
      "Step 2: 3.11e-05±1.6e-06\n",
      "Step 3: 7.26e-05±3.5e-06\n",
      "Step 4: 1.34e-04±6.2e-06\n",
      "Step 5: 2.17e-04±9.6e-06\n",
      "Step 6: 3.24e-04±1.4e-05\n",
      "Step 7: 4.57e-04±1.9e-05\n",
      "Step 8: 6.16e-04±2.4e-05\n",
      "Step 9: 8.05e-04±3.e-05\n",
      "Step 10: 1.02e-03±3.6e-05\n",
      "Step 11: 1.28e-03±4.3e-05\n",
      "Step 12: 1.56e-03±5.0e-05\n",
      "Step 13: 1.88e-03±5.8e-05\n",
      "Step 14: 2.23e-03±6.5e-05\n",
      "Step 15: 2.62e-03±7.3e-05\n",
      "Step 16: 3.05e-03±8.e-05\n",
      "Step 17: 3.51e-03±8.7e-05\n",
      "Step 18: 4.01e-03±9.3e-05\n",
      "Step 19: 4.55e-03±9.9e-05\n",
      "Step 20: 5.13e-03±1.0e-04\n"
     ]
    }
   ],
   "source": [
    "# MSE Over time\n",
    "n_steps = len(full_losses[0])\n",
    "for i in range(n_steps):\n",
    "    mse_i = [full_losses[x][i] for x in range(len(PATHS))]\n",
    "    mean_mse = np.mean(mse_i)\n",
    "    std_mse = np.std(mse_i)\n",
    "    print(f\"Step {i + 1}: {format(mean_mse, precision=2)}±{format(std_mse, precision=1)}\")"
   ]
  },
  {
   "cell_type": "code",
   "execution_count": 135,
   "metadata": {},
   "outputs": [
    {
     "data": {
      "image/png": "[encoded data removed]",
      "text/plain": [
       "<Figure size 432x288 with 1 Axes>"
      ]
     },
     "metadata": {
      "needs_background": "light"
     },
     "output_type": "display_data"
    }
   ],
   "source": [
    "# Plot MSE over time\n",
    "first = full_losses[0]\n",
    "for i in range(1, len(full_losses)):\n",
    "    plt.fill_between(np.arange(20), y1=first, y2=full_losses[i], color='lightblue')\n",
    "\n",
    "plt.savefig(\"springs_mse_timesteps.png\", dpi=200)"
   ]
  },
  {
   "cell_type": "code",
   "execution_count": 136,
   "metadata": {},
   "outputs": [
    {
     "data": {
      "image/png": "[encoded data removed]",
      "text/plain": [
       "<Figure size 432x288 with 1 Axes>"
      ]
     },
     "metadata": {
      "needs_background": "light"
     },
     "output_type": "display_data"
    }
   ],
   "source": [
    "# Fill in Paper results\n",
    "first = full_losses[0]\n",
    "plt.yscale('log')\n",
    "for i in range(1, len(full_losses)):\n",
    "    plt.fill_between(np.arange(20), y1=first, y2=full_losses[i], color='lightblue')\n",
    "\n",
    "paper_results = [(0, 3.12e-8), (10, 3.29e-6), (20, 2.13e-5)]\n",
    "for (i, v) in paper_results:\n",
    "    plt.scatter(i, v)\n",
    "    \n",
    "plt.savefig(\"paper_comparison.png\", dpi=200)"
   ]
  }
 ],
 "metadata": {
  "kernelspec": {
   "display_name": "Python (mllab-venv)",
   "language": "python",
   "name": "mllab-venv"
  },
  "language_info": {
   "codemirror_mode": {
    "name": "ipython",
    "version": 3
   },
   "file_extension": ".py",
   "mimetype": "text/x-python",
   "name": "python",
   "nbconvert_exporter": "python",
   "pygments_lexer": "ipython3",
   "version": "3.7.3"
  }
 },
 "nbformat": 4,
 "nbformat_minor": 2
}
