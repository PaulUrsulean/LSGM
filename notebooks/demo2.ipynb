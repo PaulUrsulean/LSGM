{
 "cells": [
  {
   "cell_type": "code",
   "execution_count": 1,
   "metadata": {},
   "outputs": [],
   "source": [
    "import torch\n",
    "from torch.utils import data\n",
    "import sys\n",
    "sys.path.append(\"..\")\n",
    "\n",
    "import warnings\n",
    "warnings.filterwarnings(\"ignore\", category=UserWarning) "
   ]
  },
  {
   "cell_type": "markdown",
   "metadata": {},
   "source": [
    "## Dummy Data Generation\n",
    "\n",
    "### Parameters\n",
    "Lets generate some random data to demonstrate our setup"
   ]
  },
  {
   "cell_type": "code",
   "execution_count": 2,
   "metadata": {},
   "outputs": [],
   "source": [
    "N_SAMPLES = 99 # Number of training samples to generate\n",
    "N_ATOMS = 5 # E.g. number of agents in a simulation\n",
    "N_STEPS = 10 # Length of time series (e.g. trajectory length)\n",
    "N_FEATURES = 3 # Number of features per atom and timestep"
   ]
  },
  {
   "cell_type": "markdown",
   "metadata": {},
   "source": [
    "### Generate Random Data"
   ]
  },
  {
   "cell_type": "code",
   "execution_count": 3,
   "metadata": {},
   "outputs": [],
   "source": [
    "data_loaders = dict(\n",
    "    train_loader= data.DataLoader(data.TensorDataset(torch.rand(N_SAMPLES, N_ATOMS, N_STEPS, N_FEATURES))),\n",
    "    valid_loader = data.DataLoader(data.TensorDataset(torch.rand(N_SAMPLES, N_ATOMS, N_STEPS, N_FEATURES))),\n",
    "    test_loader = data.DataLoader(data.TensorDataset(torch.rand(N_SAMPLES, N_ATOMS, N_STEPS, N_FEATURES)))\n",
    ")"
   ]
  },
  {
   "cell_type": "markdown",
   "metadata": {},
   "source": [
    "## Model Definition\n",
    "### Model Hyperparameters"
   ]
  },
  {
   "cell_type": "code",
   "execution_count": 4,
   "metadata": {},
   "outputs": [],
   "source": [
    "N_EDGE_TYPES = 3\n",
    "DIM_ENCODER_HIDDEN = 20\n",
    "DIM_DECODER_HIDDEN = 20"
   ]
  },
  {
   "cell_type": "code",
   "execution_count": 5,
   "metadata": {},
   "outputs": [],
   "source": [
    "from src.model.modules import MLPEncoder, RNNDecoder\n",
    "from src.trainer import generate_config\n",
    "from src.trainer import Trainer\n",
    "\n",
    "\n",
    "def objective_function(device_id, n_edge_types, dim_encoder_hidden):\n",
    "    encoder = MLPEncoder(N_STEPS * N_FEATURES, DIM_ENCODER_HIDDEN, N_EDGE_TYPES)\n",
    "    decoder = RNNDecoder(n_in_node=N_FEATURES, edge_types=N_EDGE_TYPES, n_hid=DIM_DECODER_HIDDEN)\n",
    "    \n",
    "    \n",
    "    config = generate_config(\n",
    "        n_edges=n_edge_types,\n",
    "        n_atoms=N_ATOMS,\n",
    "        epochs=1,\n",
    "        early_stopping_patience=2,\n",
    "        temp=0.5,\n",
    "        gpu_id=device_id  \n",
    "    )\n",
    "    \n",
    "    trainer = Trainer(encoder=encoder,\n",
    "                decoder=decoder,\n",
    "                data_loaders=data_loaders,\n",
    "                config=config)\n",
    "    trainer.train()\n",
    "    return trainer._val_loss(0)['val_loss']"
   ]
  },
  {
   "cell_type": "code",
   "execution_count": 6,
   "metadata": {},
   "outputs": [
    {
     "name": "stdout",
     "output_type": "stream",
     "text": [
      "Warning: logging configuration file is not found in ..\n"
     ]
    },
    {
     "name": "stderr",
     "output_type": "stream",
     "text": [
      "INFO:trainer:    epoch          : 0\n",
      "INFO:trainer:    loss           : 712.834127108256\n",
      "INFO:trainer:    val_loss       : 18.59517618622443\n"
     ]
    },
    {
     "name": "stdout",
     "output_type": "stream",
     "text": [
      "Warning: logging configuration file is not found in ..\n"
     ]
    },
    {
     "name": "stderr",
     "output_type": "stream",
     "text": [
      "INFO:trainer:    epoch          : 0\n",
      "INFO:trainer:    loss           : 671.448364575704\n",
      "INFO:trainer:    val_loss       : 15.828539983190671\n"
     ]
    },
    {
     "name": "stdout",
     "output_type": "stream",
     "text": [
      "Warning: logging configuration file is not found in ..\n"
     ]
    },
    {
     "name": "stderr",
     "output_type": "stream",
     "text": [
      "INFO:trainer:    epoch          : 0\n",
      "INFO:trainer:    loss           : 674.3302281697592\n",
      "INFO:trainer:    val_loss       : 15.390117076912311\n"
     ]
    },
    {
     "name": "stdout",
     "output_type": "stream",
     "text": [
      "Warning: logging configuration file is not found in ..\n"
     ]
    },
    {
     "name": "stderr",
     "output_type": "stream",
     "text": [
      "INFO:trainer:    epoch          : 0\n",
      "INFO:trainer:    loss           : 708.494994799296\n",
      "INFO:trainer:    val_loss       : 18.188052553119082\n"
     ]
    },
    {
     "name": "stdout",
     "output_type": "stream",
     "text": [
      "Warning: logging configuration file is not found in ..\n"
     ]
    },
    {
     "name": "stderr",
     "output_type": "stream",
     "text": [
      "INFO:trainer:    epoch          : 0\n",
      "INFO:trainer:    loss           : 691.9259936014811\n",
      "INFO:trainer:    val_loss       : 16.722219785054524\n"
     ]
    },
    {
     "name": "stdout",
     "output_type": "stream",
     "text": [
      "---------------------\n",
      "Score of 15.382021923257847 achieved by configuration: [('n_edge_types', 4), ('dim_encoder_hidden', 282)]\n",
      "Score of 15.83726188389942 achieved by configuration: [('n_edge_types', 4), ('dim_encoder_hidden', 267)]\n"
     ]
    }
   ],
   "source": [
    "import skopt\n",
    "import torch\n",
    "from skopt.space import Integer\n",
    "from src.hpo import HPO\n",
    "\n",
    "space = [Integer(1, 5, name='n_edge_types'),\n",
    "        Integer(20, 300, name='dim_encoder_hidden')]\n",
    "\n",
    "hpo = HPO(objective_function=objective_function,\n",
    "          search_space=space,\n",
    "          n_iters=5,\n",
    "          gpu_ids=[],\n",
    "          n_initial_points=2\n",
    "         )\n",
    "\n",
    "res = hpo.tune(return_best_n=2)\n",
    "\n",
    "\n",
    "print(\"---------------------\")\n",
    "for n, (params, result) in enumerate(res):\n",
    "    conf_str = str([(space[i].name, val) for (i, val) in enumerate(params)])\n",
    "    s = f\"Score of {result} achieved by configuration: {conf_str}\"\n",
    "    print(s)"
   ]
  }
 ],
 "metadata": {
  "kernelspec": {
   "display_name": "Python 3",
   "language": "python",
   "name": "python3"
  },
  "language_info": {
   "codemirror_mode": {
    "name": "ipython",
    "version": 3
   },
   "file_extension": ".py",
   "mimetype": "text/x-python",
   "name": "python",
   "nbconvert_exporter": "python",
   "pygments_lexer": "ipython3",
   "version": "3.7.3"
  }
 },
 "nbformat": 4,
 "nbformat_minor": 2
}
